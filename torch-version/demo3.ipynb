{
 "metadata": {
  "language_info": {
   "codemirror_mode": {
    "name": "ipython",
    "version": 3
   },
   "file_extension": ".py",
   "mimetype": "text/x-python",
   "name": "python",
   "nbconvert_exporter": "python",
   "pygments_lexer": "ipython3",
   "version": "3.9.2"
  },
  "orig_nbformat": 2,
  "kernelspec": {
   "name": "python392jvsc74a57bd05c0cbb8f9505cb68e0576a6eaefb85eb32fb13a63ecd19ecdbf1ad8294a8a3f6",
   "display_name": "Python 3.9.2 64-bit ('base': conda)"
  },
  "metadata": {
   "interpreter": {
    "hash": "5c0cbb8f9505cb68e0576a6eaefb85eb32fb13a63ecd19ecdbf1ad8294a8a3f6"
   }
  }
 },
 "nbformat": 4,
 "nbformat_minor": 2,
 "cells": [
  {
   "cell_type": "code",
   "execution_count": 11,
   "metadata": {},
   "outputs": [
    {
     "output_type": "execute_result",
     "data": {
      "text/plain": [
       "(tensor([[[-2.3230, -0.5764, -0.1289, -2.2407],\n",
       "          [-0.8571, -1.0422, -0.9864, -1.1853],\n",
       "          [-0.8108, -0.7362,  1.6342, -1.0224]],\n",
       " \n",
       "         [[-0.0508,  1.0152,  0.1941,  0.3850],\n",
       "          [-1.3203, -0.2952,  0.2954, -0.4107],\n",
       "          [-0.9173,  1.2634, -0.1498, -1.0821]]]),\n",
       " torch.Size([2, 3, 4]))"
      ]
     },
     "metadata": {},
     "execution_count": 11
    }
   ],
   "source": [
    "import torch\n",
    "\n",
    "a = torch.randn(2, 3, 4)\n",
    "a, a.shape"
   ]
  },
  {
   "cell_type": "code",
   "execution_count": 12,
   "metadata": {},
   "outputs": [
    {
     "output_type": "execute_result",
     "data": {
      "text/plain": [
       "tensor([[-0.8108, -0.7362,  1.6342, -1.0224],\n",
       "        [-0.9173,  1.2634, -0.1498, -1.0821]])"
      ]
     },
     "metadata": {},
     "execution_count": 12
    }
   ],
   "source": [
    "a = a[:,-1,:]\n",
    "a"
   ]
  },
  {
   "cell_type": "code",
   "execution_count": 21,
   "metadata": {},
   "outputs": [
    {
     "output_type": "execute_result",
     "data": {
      "text/plain": [
       "tensor([[-0.8108, -0.7362,  1.6342, -1.0224],\n",
       "        [-0.9173,  1.2634, -0.1498, -1.0821]])"
      ]
     },
     "metadata": {},
     "execution_count": 21
    }
   ],
   "source": [
    "a.view(-1, 4)"
   ]
  },
  {
   "cell_type": "code",
   "execution_count": null,
   "metadata": {},
   "outputs": [],
   "source": []
  }
 ]
}