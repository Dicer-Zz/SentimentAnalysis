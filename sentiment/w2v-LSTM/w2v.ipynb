{
 "cells": [
  {
   "cell_type": "code",
   "execution_count": 1,
   "id": "ede4b87d",
   "metadata": {},
   "outputs": [],
   "source": [
    "from gensim.models import FastText\n",
    "from utils import load_reviews\n",
    "import time\n",
    "import numpy as np"
   ]
  },
  {
   "cell_type": "code",
   "execution_count": 2,
   "id": "06302be6",
   "metadata": {},
   "outputs": [
    {
     "name": "stdout",
     "output_type": "stream",
     "text": [
      "Loading reviews Coast 0.0667 Sec\n",
      "Train Model Coast 2.6864 Sec\n"
     ]
    }
   ],
   "source": [
    "time_start = time.time()\n",
    "\n",
    "filePath = '../../corpus/6moods/train/usual_trainTrimed.csv'\n",
    "labels, reviews = load_reviews(filePath)\n",
    "reviews = [str(review).split() for review in reviews]\n",
    "\n",
    "print(f'Loading reviews Coast {time.time()-time_start:.4f} Sec')\n",
    "time_start = time.time()\n",
    "\n",
    "model = FastText(reviews, vector_size=100, window=2, min_count=5, min_n=2, max_n=4, word_ngrams=1, epochs=10, workers=8)\n",
    "\n",
    "print(f'Train Model Coast {time.time()-time_start:.4f} Sec')"
   ]
  },
  {
   "cell_type": "code",
   "execution_count": 3,
   "id": "a087b788",
   "metadata": {},
   "outputs": [],
   "source": [
    "# mood dict\n",
    "m2i = {\n",
    "    'sad':0,\n",
    "    'angry': 1,\n",
    "    'fear': 2,\n",
    "    'neutral': 3,\n",
    "    'surprise': 4,\n",
    "    'happy': 5,\n",
    "}\n",
    "i2m = {k:i for k, i in enumerate(m2i)}\n",
    "labels = [m2i[label] for label in labels]"
   ]
  },
  {
   "cell_type": "code",
   "execution_count": 40,
   "id": "f9abdeef",
   "metadata": {},
   "outputs": [],
   "source": [
    "vectors = [[model.wv[word] for word in review] for review in reviews]"
   ]
  },
  {
   "cell_type": "code",
   "execution_count": 43,
   "id": "281140d5",
   "metadata": {},
   "outputs": [
    {
     "data": {
      "text/plain": [
       "(27768, 80, 100)"
      ]
     },
     "execution_count": 43,
     "metadata": {},
     "output_type": "execute_result"
    }
   ],
   "source": [
    "zeros = [0 for i in range(100)]\n",
    "for i in range(len(vectors)):\n",
    "    while len(vectors[i]) < max_len:\n",
    "        vectors[i].insert(0, zeros)\n",
    "len(vectors), len(vectors[0]), len(vectors[0][0])"
   ]
  },
  {
   "cell_type": "code",
   "execution_count": 30,
   "id": "15baaa11",
   "metadata": {},
   "outputs": [
    {
     "data": {
      "image/png": "[encoded data removed]",
      "text/plain": [
       "<Figure size 432x288 with 1 Axes>"
      ]
     },
     "metadata": {
      "needs_background": "light"
     },
     "output_type": "display_data"
    }
   ],
   "source": [
    "import matplotlib.pyplot as plt\n",
    "\n",
    "lens = [len(vector) for vector in vectors]\n",
    "lens.sort()\n",
    "plt.bar(range(len(vectors)), lens)\n",
    "plt.show()"
   ]
  },
  {
   "cell_type": "code",
   "execution_count": 23,
   "id": "0fa455ec",
   "metadata": {},
   "outputs": [
    {
     "data": {
      "text/plain": [
       "80"
      ]
     },
     "execution_count": 23,
     "metadata": {},
     "output_type": "execute_result"
    }
   ],
   "source": [
    "max_len = max([len(vector) for vector in vectors])\n",
    "max_len"
   ]
  },
  {
   "cell_type": "code",
   "execution_count": 44,
   "id": "c7b250e8",
   "metadata": {},
   "outputs": [],
   "source": [
    "vectors = np.array(vectors)"
   ]
  },
  {
   "cell_type": "code",
   "execution_count": 45,
   "id": "015cd966",
   "metadata": {},
   "outputs": [
    {
     "data": {
      "text/plain": [
       "(27768, 80, 100)"
      ]
     },
     "execution_count": 45,
     "metadata": {},
     "output_type": "execute_result"
    }
   ],
   "source": [
    "vectors.shape"
   ]
  },
  {
   "cell_type": "code",
   "execution_count": 48,
   "id": "7dff2a34",
   "metadata": {},
   "outputs": [
    {
     "name": "stdout",
     "output_type": "stream",
     "text": [
      "[[[ 0.00000000e+00  0.00000000e+00  0.00000000e+00 ...  0.00000000e+00\n",
      "    0.00000000e+00  0.00000000e+00]\n",
      "  [ 0.00000000e+00  0.00000000e+00  0.00000000e+00 ...  0.00000000e+00\n",
      "    0.00000000e+00  0.00000000e+00]\n",
      "  [ 0.00000000e+00  0.00000000e+00  0.00000000e+00 ...  0.00000000e+00\n",
      "    0.00000000e+00  0.00000000e+00]\n",
      "  ...\n",
      "  [ 1.01109874e+00 -2.88750827e-01 -7.06010312e-02 ...  4.64239046e-02\n",
      "    1.13691926e-01 -2.39452153e-01]\n",
      "  [ 5.06500721e-01 -7.72338867e-01  9.83960748e-01 ... -1.76274240e-01\n",
      "   -6.47251487e-01 -5.05765021e-01]\n",
      "  [ 5.40124059e-01 -5.53828061e-01  4.11283642e-01 ... -4.50358540e-01\n",
      "   -4.22079153e-02  1.60758153e-01]]\n",
      "\n",
      " [[ 0.00000000e+00  0.00000000e+00  0.00000000e+00 ...  0.00000000e+00\n",
      "    0.00000000e+00  0.00000000e+00]\n",
      "  [ 0.00000000e+00  0.00000000e+00  0.00000000e+00 ...  0.00000000e+00\n",
      "    0.00000000e+00  0.00000000e+00]\n",
      "  [ 0.00000000e+00  0.00000000e+00  0.00000000e+00 ...  0.00000000e+00\n",
      "    0.00000000e+00  0.00000000e+00]\n",
      "  ...\n",
      "  [ 3.93913299e-01  2.74931282e-01  1.14583582e-01 ...  4.71576780e-01\n",
      "    9.98869002e-01  6.26409173e-01]\n",
      "  [-4.22287248e-02  2.92183161e-01  1.91291957e-03 ...  5.42925119e-01\n",
      "    1.36189476e-01  2.15551704e-01]\n",
      "  [ 1.69816971e-01  2.16959953e-01  1.61746517e-01 ...  1.51470363e-01\n",
      "    3.47825825e-01  1.05983317e-01]]\n",
      "\n",
      " [[ 0.00000000e+00  0.00000000e+00  0.00000000e+00 ...  0.00000000e+00\n",
      "    0.00000000e+00  0.00000000e+00]\n",
      "  [ 0.00000000e+00  0.00000000e+00  0.00000000e+00 ...  0.00000000e+00\n",
      "    0.00000000e+00  0.00000000e+00]\n",
      "  [ 0.00000000e+00  0.00000000e+00  0.00000000e+00 ...  0.00000000e+00\n",
      "    0.00000000e+00  0.00000000e+00]\n",
      "  ...\n",
      "  [-3.28036487e-01 -1.27772778e-01  4.34924737e-02 ... -6.67067289e-01\n",
      "    4.87028658e-02  2.90386647e-01]\n",
      "  [-2.77624100e-01 -7.68500566e-03 -1.52351782e-01 ... -8.68039489e-01\n",
      "    1.93659395e-01  2.66104281e-01]\n",
      "  [-2.73852646e-02 -5.62168956e-02  4.27817442e-02 ... -1.39362410e-01\n",
      "    6.18911833e-02  2.08762120e-02]]\n",
      "\n",
      " [[ 0.00000000e+00  0.00000000e+00  0.00000000e+00 ...  0.00000000e+00\n",
      "    0.00000000e+00  0.00000000e+00]\n",
      "  [ 0.00000000e+00  0.00000000e+00  0.00000000e+00 ...  0.00000000e+00\n",
      "    0.00000000e+00  0.00000000e+00]\n",
      "  [ 0.00000000e+00  0.00000000e+00  0.00000000e+00 ...  0.00000000e+00\n",
      "    0.00000000e+00  0.00000000e+00]\n",
      "  ...\n",
      "  [-4.12227772e-03 -7.69255981e-02  7.23941177e-02 ... -2.67379284e-01\n",
      "    1.27641231e-01  2.57993080e-02]\n",
      "  [-6.04868591e-01 -4.53472793e-01  2.38070488e-01 ... -6.10678792e-01\n",
      "   -5.26503503e-01 -2.50488877e-01]\n",
      "  [-3.19985040e-02 -2.47715563e-01 -1.94765143e-02 ... -2.50819355e-01\n",
      "   -1.70633882e-01 -3.41445208e-04]]\n",
      "\n",
      " [[ 0.00000000e+00  0.00000000e+00  0.00000000e+00 ...  0.00000000e+00\n",
      "    0.00000000e+00  0.00000000e+00]\n",
      "  [ 0.00000000e+00  0.00000000e+00  0.00000000e+00 ...  0.00000000e+00\n",
      "    0.00000000e+00  0.00000000e+00]\n",
      "  [ 0.00000000e+00  0.00000000e+00  0.00000000e+00 ...  0.00000000e+00\n",
      "    0.00000000e+00  0.00000000e+00]\n",
      "  ...\n",
      "  [ 0.00000000e+00  0.00000000e+00  0.00000000e+00 ...  0.00000000e+00\n",
      "    0.00000000e+00  0.00000000e+00]\n",
      "  [ 0.00000000e+00  0.00000000e+00  0.00000000e+00 ...  0.00000000e+00\n",
      "    0.00000000e+00  0.00000000e+00]\n",
      "  [ 8.06302309e-01 -1.02170300e+00  8.71120691e-01 ... -1.28618166e-01\n",
      "   -1.30553639e+00  4.21452284e-01]]]\n"
     ]
    }
   ],
   "source": []
  },
  {
   "cell_type": "code",
   "execution_count": 49,
   "id": "ffa99b51",
   "metadata": {},
   "outputs": [
    {
     "name": "stdout",
     "output_type": "stream",
     "text": [
      "gensim                            4.0.1\r\n"
     ]
    }
   ],
   "source": [
    "!pip list | grep gensim"
   ]
  },
  {
   "cell_type": "code",
   "execution_count": null,
   "id": "d98648c7",
   "metadata": {},
   "outputs": [],
   "source": []
  }
 ],
 "metadata": {
  "kernelspec": {
   "display_name": "Python 3",
   "language": "python",
   "name": "python3"
  },
  "language_info": {
   "codemirror_mode": {
    "name": "ipython",
    "version": 3
   },
   "file_extension": ".py",
   "mimetype": "text/x-python",
   "name": "python",
   "nbconvert_exporter": "python",
   "pygments_lexer": "ipython3",
   "version": "3.9.2"
  }
 },
 "nbformat": 4,
 "nbformat_minor": 5
}
