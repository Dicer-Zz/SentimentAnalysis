{
 "cells": [
  {
   "cell_type": "code",
   "execution_count": 1,
   "id": "092b2430",
   "metadata": {},
   "outputs": [],
   "source": [
    "\"\"\"\n",
    "训练六分类数据的d2v模型\n",
    "\"\"\"\n",
    "from gensim.models.doc2vec import Doc2Vec, TaggedDocument\n",
    "from utils import load_reviews\n",
    "import time"
   ]
  },
  {
   "cell_type": "code",
   "execution_count": 2,
   "id": "bf364972",
   "metadata": {
    "scrolled": true
   },
   "outputs": [
    {
     "data": {
      "text/plain": [
       "(('angry',\n",
       "  ['气死', '姐姐', '快二是', '阵亡', '吗', '尼玛', '一个半', '小时', '过去', '也', '没', '上车']),\n",
       " ('happy',\n",
       "  ['妞妞',\n",
       "   '今天',\n",
       "   '又',\n",
       "   '承办',\n",
       "   '一个',\n",
       "   '发文',\n",
       "   '登记',\n",
       "   '文号',\n",
       "   '是',\n",
       "   '嘻',\n",
       "   '么',\n",
       "   '么',\n",
       "   '哒',\n",
       "   '晚安',\n",
       "   '哟']),\n",
       " ('neutral',\n",
       "  ['还',\n",
       "   '值得注意',\n",
       "   '另',\n",
       "   '一个',\n",
       "   '事实',\n",
       "   '张鞠存',\n",
       "   '原有',\n",
       "   '一个',\n",
       "   '东溪',\n",
       "   '草堂',\n",
       "   '为',\n",
       "   '其',\n",
       "   '读书处']))"
      ]
     },
     "execution_count": 2,
     "metadata": {},
     "output_type": "execute_result"
    }
   ],
   "source": [
    "filePath = '../../corpus/6moods/train/usual_trainTrimed.csv'\n",
    "labels, reviews = load_reviews(filePath)\n",
    "reviews = [review.split() for review in reviews]\n",
    "tuple(zip(labels, reviews))[:3]"
   ]
  },
  {
   "cell_type": "code",
   "execution_count": 3,
   "id": "94860ea8",
   "metadata": {},
   "outputs": [],
   "source": [
    "# mood dict\n",
    "m2i = {\n",
    "    'sad':0,\n",
    "    'angry': 1,\n",
    "    'fear': 2,\n",
    "    'neutral': 3,\n",
    "    'surprise': 4,\n",
    "    'happy': 5,\n",
    "}\n",
    "i2m = {k:i for k, i in enumerate(m2i)}"
   ]
  },
  {
   "cell_type": "code",
   "execution_count": 4,
   "id": "e8f1c48b",
   "metadata": {},
   "outputs": [
    {
     "data": {
      "text/plain": [
       "[1, 5, 3, 3, 4]"
      ]
     },
     "execution_count": 4,
     "metadata": {},
     "output_type": "execute_result"
    }
   ],
   "source": [
    "labels = [m2i[str(label)] for label in labels]\n",
    "labels[:5]"
   ]
  },
  {
   "cell_type": "code",
   "execution_count": 5,
   "id": "a2951707",
   "metadata": {},
   "outputs": [
    {
     "data": {
      "text/plain": [
       "[TaggedDocument(words=['气死', '姐姐', '快二是', '阵亡', '吗', '尼玛', '一个半', '小时', '过去', '也', '没', '上车'], tags=[1]),\n",
       " TaggedDocument(words=['妞妞', '今天', '又', '承办', '一个', '发文', '登记', '文号', '是', '嘻', '么', '么', '哒', '晚安', '哟'], tags=[5]),\n",
       " TaggedDocument(words=['还', '值得注意', '另', '一个', '事实', '张鞠存', '原有', '一个', '东溪', '草堂', '为', '其', '读书处'], tags=[3]),\n",
       " TaggedDocument(words=['这', '在', '前', '华约', '国家', '尤其', '是', '东德', '使用', '的', '首次', '联合演习', '期间', '被', '一些', '北约组织', '的', '飞行员', '所', '证实'], tags=[3]),\n",
       " TaggedDocument(words=['上'], tags=[4])]"
      ]
     },
     "execution_count": 5,
     "metadata": {},
     "output_type": "execute_result"
    }
   ],
   "source": [
    "doc = [TaggedDocument(reviews[i], [labels[i]]) for i in range(len(reviews))]\n",
    "doc[:5]"
   ]
  },
  {
   "cell_type": "code",
   "execution_count": 6,
   "id": "c8ec492e",
   "metadata": {},
   "outputs": [
    {
     "name": "stdout",
     "output_type": "stream",
     "text": [
      "Training model cost: 5.5787 Sec\n"
     ]
    }
   ],
   "source": [
    "start = time.time()\n",
    "model = Doc2Vec(doc, vector_size=20, window=2, min_count=5, epochs=10)\n",
    "model.save_word2vec_format('./data/d2v.txt')\n",
    "model.save('./data/d2v.model')\n",
    "cost = time.time() - start\n",
    "print(f'Training model cost: {cost:.4f} Sec')"
   ]
  },
  {
   "cell_type": "code",
   "execution_count": 7,
   "id": "7d4fc80f",
   "metadata": {
    "scrolled": true
   },
   "outputs": [
    {
     "name": "stdout",
     "output_type": "stream",
     "text": [
      "[('[吃惊]', 0.8837623000144958), ('感慨', 0.8774041533470154), ('[衰]', 0.8455262780189514), ('神经病', 0.8394677639007568), ('纸', 0.8341495394706726), ('行', 0.8264917731285095), ('那位', 0.8174652457237244), ('商家', 0.8133604526519775), ('远光灯', 0.8080230355262756), ('堪称', 0.8076061606407166)]\n",
      "[('婊', 0.8698984384536743), ('大神', 0.8337650299072266), ('轰炸', 0.8331423997879028), ('马勒', 0.8261599540710449), ('华为', 0.810968816280365), ('韵达', 0.8008748292922974), ('电钻', 0.8008080124855042), ('郑恺', 0.8006690740585327), ('朱亚文', 0.7992111444473267), ('大叫', 0.7965862154960632)]\n"
     ]
    }
   ],
   "source": [
    "wv = model.wv\n",
    "print(wv.most_similar('卧槽'))\n",
    "print(wv.most_similar('我操'))"
   ]
  },
  {
   "cell_type": "code",
   "execution_count": 8,
   "id": "31e35f16",
   "metadata": {},
   "outputs": [
    {
     "name": "stdout",
     "output_type": "stream",
     "text": [
      "[-1.3084278  -0.45839208 -0.5775986  -0.30819038  1.4204996  -0.35753238\n",
      " -0.23664102 -1.229145    1.7807796  -1.118629    0.41416073  0.78953296\n",
      " -1.3608664  -0.9842466  -0.49807453  1.9896345   0.29180244 -0.6641466\n",
      " -0.8558963   1.435378  ]\n",
      "[-0.05444296  0.0080732  -0.02475881  0.0242496   0.06802876 -0.00584508\n",
      " -0.02550354 -0.02837566  0.06826746 -0.01272654  0.0067676   0.05555837\n",
      " -0.00609071 -0.06379095 -0.03808757  0.05879767  0.01863134 -0.0119704\n",
      " -0.05210801  0.02342739]\n"
     ]
    }
   ],
   "source": [
    "print(wv['卧槽'])\n",
    "print(model.infer_vector(['卧槽']))"
   ]
  },
  {
   "cell_type": "code",
   "execution_count": 9,
   "id": "c418395f",
   "metadata": {},
   "outputs": [
    {
     "data": {
      "text/plain": [
       "[array([-0.04757316,  0.04367489, -0.09455883,  0.09047905,  0.0787765 ,\n",
       "        -0.18718566, -0.07665525, -0.0230841 ,  0.18516561, -0.24436016,\n",
       "         0.01454751,  0.20735273, -0.30142966, -0.1536281 , -0.03942646,\n",
       "         0.03265611,  0.07468861, -0.27426484, -0.05937847,  0.00431646],\n",
       "       dtype=float32),\n",
       " array([ 0.08900227,  0.15790507, -0.09202043, -0.05244378,  0.09003896,\n",
       "        -0.22828124,  0.10798083,  0.13961828,  0.0611835 , -0.23666959,\n",
       "        -0.2105221 ,  0.06099629, -0.30025116, -0.31915152, -0.0917276 ,\n",
       "         0.0315614 , -0.14340168, -0.15528348,  0.01314865,  0.10393614],\n",
       "       dtype=float32),\n",
       " array([-0.08163825,  0.01461045, -0.08778184,  0.05579885,  0.15973966,\n",
       "        -0.2454241 ,  0.05913501,  0.01513157,  0.02292997, -0.17410545,\n",
       "         0.02910296,  0.07980833, -0.19867751, -0.25065857, -0.08286671,\n",
       "        -0.05207695, -0.17845787, -0.20596807,  0.00301739,  0.04077628],\n",
       "       dtype=float32),\n",
       " array([ 0.01886431,  0.19281362, -0.09836899, -0.09361309,  0.1968697 ,\n",
       "        -0.34232545, -0.07594792,  0.0554869 ,  0.18435332, -0.33767787,\n",
       "        -0.23328708,  0.17097944, -0.44925362, -0.43139356, -0.11680174,\n",
       "         0.20590092, -0.0689784 , -0.14952165,  0.05353253,  0.14443122],\n",
       "       dtype=float32),\n",
       " array([ 0.00013943,  0.05477129, -0.06153464, -0.03782174,  0.04586671,\n",
       "        -0.03286797, -0.00883635, -0.03818917, -0.00956236, -0.04326298,\n",
       "        -0.04818919, -0.01595156, -0.11215717, -0.03680109,  0.01939196,\n",
       "        -0.02528414,  0.00495441, -0.01175981, -0.01508547,  0.00321016],\n",
       "       dtype=float32)]"
      ]
     },
     "execution_count": 9,
     "metadata": {},
     "output_type": "execute_result"
    }
   ],
   "source": [
    "vectors = []\n",
    "for review in reviews:\n",
    "    vectors.append(model.infer_vector(review))\n",
    "vectors[:5]"
   ]
  },
  {
   "cell_type": "code",
   "execution_count": 10,
   "id": "cdfb73f7",
   "metadata": {},
   "outputs": [],
   "source": [
    "import pandas as pd\n",
    "\n",
    "df = pd.DataFrame({'label': labels, 'vector': vectors})\n",
    "df.to_csv('./data/vec.csv', index=False)"
   ]
  },
  {
   "cell_type": "code",
   "execution_count": 11,
   "id": "04cb7948",
   "metadata": {},
   "outputs": [
    {
     "data": {
      "text/html": [
       "<div>\n",
       "<style scoped>\n",
       "    .dataframe tbody tr th:only-of-type {\n",
       "        vertical-align: middle;\n",
       "    }\n",
       "\n",
       "    .dataframe tbody tr th {\n",
       "        vertical-align: top;\n",
       "    }\n",
       "\n",
       "    .dataframe thead th {\n",
       "        text-align: right;\n",
       "    }\n",
       "</style>\n",
       "<table border=\"1\" class=\"dataframe\">\n",
       "  <thead>\n",
       "    <tr style=\"text-align: right;\">\n",
       "      <th></th>\n",
       "      <th>label</th>\n",
       "      <th>vector</th>\n",
       "    </tr>\n",
       "  </thead>\n",
       "  <tbody>\n",
       "    <tr>\n",
       "      <th>0</th>\n",
       "      <td>1</td>\n",
       "      <td>[-0.047573164, 0.043674894, -0.09455883, 0.090...</td>\n",
       "    </tr>\n",
       "    <tr>\n",
       "      <th>1</th>\n",
       "      <td>5</td>\n",
       "      <td>[0.089002274, 0.15790507, -0.09202043, -0.0524...</td>\n",
       "    </tr>\n",
       "    <tr>\n",
       "      <th>2</th>\n",
       "      <td>3</td>\n",
       "      <td>[-0.081638254, 0.014610445, -0.08778184, 0.055...</td>\n",
       "    </tr>\n",
       "    <tr>\n",
       "      <th>3</th>\n",
       "      <td>3</td>\n",
       "      <td>[0.018864311, 0.19281362, -0.09836899, -0.0936...</td>\n",
       "    </tr>\n",
       "    <tr>\n",
       "      <th>4</th>\n",
       "      <td>4</td>\n",
       "      <td>[0.00013942734, 0.054771286, -0.06153464, -0.0...</td>\n",
       "    </tr>\n",
       "  </tbody>\n",
       "</table>\n",
       "</div>"
      ],
      "text/plain": [
       "   label                                             vector\n",
       "0      1  [-0.047573164, 0.043674894, -0.09455883, 0.090...\n",
       "1      5  [0.089002274, 0.15790507, -0.09202043, -0.0524...\n",
       "2      3  [-0.081638254, 0.014610445, -0.08778184, 0.055...\n",
       "3      3  [0.018864311, 0.19281362, -0.09836899, -0.0936...\n",
       "4      4  [0.00013942734, 0.054771286, -0.06153464, -0.0..."
      ]
     },
     "execution_count": 11,
     "metadata": {},
     "output_type": "execute_result"
    }
   ],
   "source": [
    "df[:5]"
   ]
  },
  {
   "cell_type": "code",
   "execution_count": null,
   "id": "7ab1d493",
   "metadata": {},
   "outputs": [],
   "source": []
  }
 ],
 "metadata": {
  "kernelspec": {
   "display_name": "Python 3",
   "language": "python",
   "name": "python3"
  },
  "language_info": {
   "codemirror_mode": {
    "name": "ipython",
    "version": 3
   },
   "file_extension": ".py",
   "mimetype": "text/x-python",
   "name": "python",
   "nbconvert_exporter": "python",
   "pygments_lexer": "ipython3",
   "version": "3.9.2"
  }
 },
 "nbformat": 4,
 "nbformat_minor": 5
}