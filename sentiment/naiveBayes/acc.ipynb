{
 "cells": [
  {
   "cell_type": "code",
   "execution_count": 1,
   "id": "f971432f",
   "metadata": {
    "scrolled": true
   },
   "outputs": [
    {
     "name": "stderr",
     "output_type": "stream",
     "text": [
      "Building prefix dict from the default dictionary ...\n",
      "Loading model from cache /var/folders/3q/s6tg6hsj09x1mhcxccvz_nbw0000gn/T/jieba.cache\n",
      "Loading model cost 0.441 seconds.\n",
      "Prefix dict has been built successfully.\n"
     ]
    },
    {
     "name": "stdout",
     "output_type": "stream",
     "text": [
      "Load Corpus Cost 54.0893 Sec\n"
     ]
    }
   ],
   "source": [
    "import time\n",
    "import pickle\n",
    "from sklearn.feature_extraction.text import CountVectorizer, TfidfTransformer\n",
    "from sklearn.naive_bayes import MultinomialNB\n",
    "from sklearn.pipeline import Pipeline\n",
    "from utils import load_corpus, data_suffle\n",
    "\n",
    "stopwordPath = './data/stopword.txt'\n",
    "userDictPath = './data/user_dict.txt'\n",
    "csvFilePath = '../../corpus/100k/all.csv'\n",
    "modelPath = './data/bayes.model'\n",
    "\n",
    "# 载入自定义字典\n",
    "# jieba.load_userdict(userDictPath)\n",
    "\n",
    "time_start = time.time()\n",
    "\n",
    "labels, reviews = load_corpus(csvFilePath, stopwordPath)\n",
    "labels, reviews = data_suffle(labels, reviews)\n",
    "# 将reviews的格式转为[str]，为CountVectorizer使用\n",
    "reviews = [' '.join(review) for review in reviews]\n",
    "\n",
    "# 1/4 分割数据集\n",
    "n = len(labels) // 5\n",
    "labels_train, reviews_train = labels[n:], reviews[n:]\n",
    "labels_test, reviews_test = labels[:n], reviews[:n]\n",
    "\n",
    "print(f'Load Corpus Cost {time.time() - time_start:.4f} Sec')"
   ]
  },
  {
   "cell_type": "code",
   "execution_count": 22,
   "id": "76fd1907",
   "metadata": {
    "scrolled": true
   },
   "outputs": [
    {
     "name": "stdout",
     "output_type": "stream",
     "text": [
      "Train Model Cost 0.9763 Sec\n"
     ]
    }
   ],
   "source": [
    "time_start = time.time()\n",
    "\n",
    "# 加载bayes分类器\n",
    "# 统计法向量化\n",
    "vectorizer = CountVectorizer(max_df=0.8, min_df=5)\n",
    "tfidftransformer = TfidfTransformer()\n",
    "# 先转换成词频矩阵，再计算TFIDF值\n",
    "tfidf = tfidftransformer.fit_transform(vectorizer.fit_transform(reviews_train))\n",
    "# 朴素贝叶斯中的多项式分类器\n",
    "clf = MultinomialNB().fit(tfidf, labels_train)\n",
    "\n",
    "print(f'Train Model Cost {time.time() - time_start:.4f} Sec')"
   ]
  },
  {
   "cell_type": "code",
   "execution_count": 23,
   "id": "3b5372fc",
   "metadata": {},
   "outputs": [],
   "source": [
    "# 生成测试数据的tfidf矩阵\n",
    "tfidf_test = tfidftransformer.transform(vectorizer.transform(reviews_test))"
   ]
  },
  {
   "cell_type": "code",
   "execution_count": 24,
   "id": "86c77efb",
   "metadata": {
    "scrolled": true
   },
   "outputs": [
    {
     "data": {
      "text/plain": [
       "((23997, 23163), (95991, 23163))"
      ]
     },
     "execution_count": 24,
     "metadata": {},
     "output_type": "execute_result"
    }
   ],
   "source": [
    "tfidf_test.shape, tfidf.shape"
   ]
  },
  {
   "cell_type": "code",
   "execution_count": 25,
   "id": "f79534ed",
   "metadata": {},
   "outputs": [],
   "source": [
    "result = clf.predict(tfidf_test)"
   ]
  },
  {
   "cell_type": "code",
   "execution_count": 26,
   "id": "5848ddfb",
   "metadata": {},
   "outputs": [
    {
     "name": "stdout",
     "output_type": "stream",
     "text": [
      "              precision    recall  f1-score   support\n",
      "\n",
      "           0       0.84      0.78      0.81     12081\n",
      "           1       0.79      0.85      0.82     11916\n",
      "\n",
      "    accuracy                           0.81     23997\n",
      "   macro avg       0.81      0.81      0.81     23997\n",
      "weighted avg       0.81      0.81      0.81     23997\n",
      "\n",
      "准确率: 0.8109763720465059\n"
     ]
    }
   ],
   "source": [
    "from sklearn import metrics\n",
    "print(metrics.classification_report(labels_test, result))\n",
    "print(\"准确率:\", metrics.accuracy_score(labels_test, result))"
   ]
  },
  {
   "cell_type": "code",
   "execution_count": 31,
   "id": "bca1ffa7",
   "metadata": {},
   "outputs": [
    {
     "name": "stdout",
     "output_type": "stream",
     "text": [
      "1 0\n",
      "最近 总是 看到 一句 话 说 不 愿意 公开 秀 恩爱 的 女人 都 是 有 备胎 不 愿意 公开 秀 恩爱 的 男人 都 是 在 给 婊子 留 机会 秀 [嘻嘻] [嘻嘻] [嘻嘻]\n",
      "1 0\n",
      "数字 时代 的 低级 错误 常见 愧疚 [哈哈] 转发 微博\n",
      "0 1\n",
      "我要 喝 豆浆 [鼓掌] 竞争 太 激烈 [抓狂] [抓狂] 吃喝玩乐 大 搜索 的 娘家 人们 行动 美食 爱好者 滴 福音\n",
      "0 1\n",
      "[衰]\n",
      "1 0\n",
      "看到 小蕙 的 笔记本 泪流满面 [泪] 妈妈 以后 一定 多爱 一点 [爱你]\n",
      "1 0\n",
      "回复 是 的 在 悉尼 在 么 回复 明天 早起 [嘻嘻] [    ] 明天 不想 早起\n",
      "0 1\n",
      "夏大 小姐 又 取笑 [晕] 哈哈哈 这 是 的 心结 [哈哈] [哈哈] [哈哈] 瞧瞧 得色 得 [酷] 哈哈\n",
      "0 1\n",
      "排队 买 稻香村 糕点 带回家 同样 是 女人 看看 这 姐妹 儿 的 待遇 [泪] [泪] [泪]\n",
      "0 1\n",
      "高级 定制 彩宝 系列 超 美的 紫晶 戒指 [色] [色] [色] 增光添彩 纯正 的 颜色 完美 的 净度 切割 在 搭配 柔美 的 玫瑰 金 真是 美死 [抓狂] [抓狂] [抓狂] 还要 感谢 某某 惊爪 爪 童鞋 超 美的 秀 [偷笑] 喜欢 的 快快 举手 [得意] [胜利]\n",
      "0 1\n",
      "知道 吗 想 回复 说 的 太 对了 应该 艾特沁沁 字 打 一半 送 外卖 的 来 敲门 耽误 的 评论 我俩 想法 相当 默契 详见 这 一篇 后面 偶俩 对话 [衰] [衰] [衰] 喵 儿\n",
      "1 0\n",
      "进口 空气 能 大发 一笔 [哈哈] 新鲜空气\n",
      "0 1\n",
      "小伙 挺帅 回复 小东 老师 来来 [哼] 不 来 你拉上 王小东 三小 一起 比个 [怒]\n",
      "0 1\n",
      "回复 对 吓 吓 [偷乐] 回复 嘘 鬼爷 吓 吓 [太开心] [太开心] [太开心] 回复 可笑 死 老 鬼 哈哈哈哈 哈哈哈 这 小调 皮儿 [太开心] [可爱] [泪] [泪] [泪] [泪] 请 吃 汤饭 鬼爷 事 的 [泪]\n",
      "1 0\n",
      "[可怜] 木 有人 呀 [抓狂] 打算 对 谁 表白 呢 [亲亲] 很想 参与 一下 [哈哈]\n",
      "0 1\n",
      "[吃惊] 都 要学 表演 [泪] 坐车去 咯 [嘻嘻] [泪] 都 得 一笑 [哈哈] [嘻嘻] 嚎啕大哭\n",
      "0 1\n",
      "大 娃娃 亲爱 的 大 娃娃 [泪]\n",
      "0 1\n",
      "去 晚上 的 大 趴 呀 [泪] 要 好 好玩 的 玩出来 上 图片 上 图片\n",
      "1 0\n",
      "初冬 的 水 长城 我俩 经历 房山 十渡 的 大雨 又 一起 经历 从 青岛 回京 路上 的 大雨 大雾 在 长城 上 一起 经历 大风 拉 着 的 胳膊 走过 风 最大 的 那段 路 还 时不时 的 蹲下 避过 大风 估计 下次 是 大雪 地震 就 好 [可爱] 长城 风景 相册\n",
      "0 1\n",
      "学习 一下 从 年 元旦 的 海边 的 那 张 跳 每 集体 去 一次 海边 时 都 跳 一次 [哈哈] 光阴 [呵呵] 时光 [泪]\n",
      "0 1\n",
      "扎堆 扎堆 跟风 跟风 无奈 无奈 傻 逼 明年 种 芹菜 芹菜 毛 没人 要 [泪] [泪] 智能 互联网 交换机 问世 在 地 头上 就 操控 自由 穿梭 遥控 交接 [哈哈] [哈哈]\n",
      "0 1\n",
      "[泪]\n",
      "0 1\n",
      "明天 点 开团 一 激动 忘 说 开团 时间 [泪] [泪] 今天 领券 一周 前 个 小红锅 被 瞬间 抢光 后 最近 不断 有 同学 哭诉 没 抢到 与 表达 的 强烈 需求 终于 追加 一团 限量 个 优惠券 链接 有效期 到 周日 点 现在 开领 好运 [爱你]\n",
      "0 1\n",
      "情深 歌才切 [鼓掌] [鼓掌] [心]\n",
      "1 0\n",
      "情况 最 重要 的 是 结尾 的 字幕 好看 收不到 台 捉急 重在 掺合 者 名 编剧 的 势力 已经 跨过 长江 [鼓掌] 近期 参与 搅 合编 攒 的 一档 节目 欢迎 中毒\n",
      "0 1\n",
      "回复 哈哈 好 回复 [酷] [酷] [酷] 看 就 知道 新疆 的 美食 有 多 好吃 有 多 诱惑 人 [偷笑] [偷笑] [偷笑] [偷笑] 回复 这 叫 迷踪 剑法 嘛 [嘻嘻] 的 剑 也 够 不到 对方 都 没 精彩 剧情 咯 [泪] 那 不 正好 嘛\n",
      "1 0\n",
      "这 几天 的 失眠 天天 上 梦里 得 瑟 本来 刚刚 还 很困 可 突然 睡不着 呢 是 这会 被 梦到 [哈哈]\n",
      "0 1\n",
      "苦中作乐 说 这 叫秀 幸福 这种 秀 都 推崇 回复 多谢 [嘻嘻] 没 办法 一家老小 尤其 是 习惯 享受 的 父亲 还 说 [衰] 海口 人民 感谢 为 当地 做出 重大贡献 [偷笑] [偷笑]\n"
     ]
    }
   ],
   "source": [
    "for index in range(100):\n",
    "    if labels_test[index] != result[index]:\n",
    "        print(labels_test[index], result[index])\n",
    "        print(reviews_test[index])"
   ]
  },
  {
   "cell_type": "code",
   "execution_count": null,
   "id": "45caa038",
   "metadata": {},
   "outputs": [],
   "source": []
  }
 ],
 "metadata": {
  "kernelspec": {
   "display_name": "Python 3.8.5 64-bit ('base': conda)",
   "language": "python",
   "name": "python385jvsc74a57bd0dca0ade3e726a953b501b15e8e990130d2b7799f14cfd9f4271676035ebe5511"
  },
  "language_info": {
   "codemirror_mode": {
    "name": "ipython",
    "version": 3
   },
   "file_extension": ".py",
   "mimetype": "text/x-python",
   "name": "python",
   "nbconvert_exporter": "python",
   "pygments_lexer": "ipython3",
   "version": "3.8.5"
  }
 },
 "nbformat": 4,
 "nbformat_minor": 5
}
