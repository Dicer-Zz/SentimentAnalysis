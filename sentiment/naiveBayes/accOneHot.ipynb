{
 "cells": [
  {
   "cell_type": "code",
   "execution_count": 1,
   "id": "a8f0c779",
   "metadata": {},
   "outputs": [
    {
     "name": "stdout",
     "output_type": "stream",
     "text": [
      "Load Corpus Cost 0.2808 Sec\n"
     ]
    }
   ],
   "source": [
    "import time\n",
    "import pickle\n",
    "import numpy as np\n",
    "from sklearn.feature_extraction.text import CountVectorizer, TfidfTransformer\n",
    "from sklearn.naive_bayes import MultinomialNB\n",
    "from sklearn.pipeline import Pipeline\n",
    "from utils import load_reviews, data_suffle\n",
    "\n",
    "# stopwordPath = './data/stopword.txt'\n",
    "# userDictPath = './data/user_dict.txt'\n",
    "csvFilePath = '../../corpus/100k/allTrimed.csv'\n",
    "modelPath = './data/bayes.model'\n",
    "\n",
    "# 载入自定义字典\n",
    "# jieba.load_userdict(userDictPath)\n",
    "\n",
    "time_start = time.time()\n",
    "\n",
    "labels, reviews = load_reviews(csvFilePath)\n",
    "labels, reviews = data_suffle(labels, reviews)\n",
    "\n",
    "# 1/4 分割数据集\n",
    "n = len(labels) // 5\n",
    "labels_train, reviews_train = labels[n:], reviews[n:]\n",
    "labels_test, reviews_test = labels[:n], reviews[:n]\n",
    "\n",
    "print(f'Load Corpus Cost {time.time() - time_start:.4f} Sec')"
   ]
  },
  {
   "cell_type": "code",
   "execution_count": 2,
   "id": "08eb4b96",
   "metadata": {},
   "outputs": [
    {
     "name": "stdout",
     "output_type": "stream",
     "text": [
      "Train Model Cost 0.6422 Sec\n"
     ]
    }
   ],
   "source": [
    "time_start = time.time()\n",
    "\n",
    "vectorizer = CountVectorizer(max_df=0.8, min_df=5)\n",
    "vec_train = vectorizer.fit_transform([np.str_(review) for review in reviews_train])\n",
    "clf = MultinomialNB().fit(vec_train, labels_train)\n",
    "\n",
    "print(f'Train Model Cost {time.time() - time_start:.4f} Sec')"
   ]
  },
  {
   "cell_type": "code",
   "execution_count": 3,
   "id": "6037d34c",
   "metadata": {},
   "outputs": [],
   "source": [
    "vec_test = vectorizer.transform([np.str_(review) for review in reviews_test])\n",
    "pred = clf.predict(vec_test)"
   ]
  },
  {
   "cell_type": "code",
   "execution_count": 4,
   "id": "3c941d10",
   "metadata": {},
   "outputs": [
    {
     "name": "stdout",
     "output_type": "stream",
     "text": [
      "              precision    recall  f1-score   support\n",
      "\n",
      "           0       0.88      0.79      0.83     12071\n",
      "           1       0.81      0.89      0.85     11926\n",
      "\n",
      "    accuracy                           0.84     23997\n",
      "   macro avg       0.85      0.84      0.84     23997\n",
      "weighted avg       0.85      0.84      0.84     23997\n",
      "\n",
      "准确率: 0.8424386381631037\n"
     ]
    }
   ],
   "source": [
    "from sklearn import metrics\n",
    "print(metrics.classification_report(labels_test, pred))\n",
    "print(\"准确率:\", metrics.accuracy_score(labels_test, pred))"
   ]
  }
 ],
 "metadata": {
  "kernelspec": {
   "display_name": "Python 3",
   "language": "python",
   "name": "python3"
  },
  "language_info": {
   "codemirror_mode": {
    "name": "ipython",
    "version": 3
   },
   "file_extension": ".py",
   "mimetype": "text/x-python",
   "name": "python",
   "nbconvert_exporter": "python",
   "pygments_lexer": "ipython3",
   "version": "3.8.6"
  }
 },
 "nbformat": 4,
 "nbformat_minor": 5
}
