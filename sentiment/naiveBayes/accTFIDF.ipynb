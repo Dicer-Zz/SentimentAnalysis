{
 "cells": [
  {
   "cell_type": "code",
   "execution_count": 1,
   "id": "b41032d0",
   "metadata": {
    "scrolled": true
   },
   "outputs": [
    {
     "name": "stdout",
     "output_type": "stream",
     "text": [
      "Load Corpus Cost 0.2823 Sec\n"
     ]
    }
   ],
   "source": [
    "import time\n",
    "import numpy as np\n",
    "import pickle\n",
    "from sklearn.feature_extraction.text import CountVectorizer, TfidfTransformer\n",
    "from sklearn.naive_bayes import MultinomialNB\n",
    "from sklearn.pipeline import Pipeline\n",
    "from utils import load_reviews, data_suffle\n",
    "\n",
    "# stopwordPath = './data/stopword.txt'\n",
    "# userDictPath = './data/user_dict.txt'\n",
    "csvFilePath = '../../corpus/100k/allTrimed.csv'\n",
    "modelPath = './data/bayes.model'\n",
    "\n",
    "# 载入自定义字典\n",
    "# jieba.load_userdict(userDictPath)\n",
    "\n",
    "time_start = time.time()\n",
    "\n",
    "labels, reviews = load_reviews(csvFilePath)\n",
    "labels, reviews = data_suffle(labels, reviews)\n",
    "# 将reviews的格式转为[str]，为CountVectorizer使用\n",
    "\n",
    "# 1/4 分割数据集\n",
    "n = len(labels) // 5\n",
    "labels_train, reviews_train = labels[n:], reviews[n:]\n",
    "labels_test, reviews_test = labels[:n], reviews[:n]\n",
    "\n",
    "print(f'Load Corpus Cost {time.time() - time_start:.4f} Sec')"
   ]
  },
  {
   "cell_type": "code",
   "execution_count": 2,
   "id": "31380124",
   "metadata": {},
   "outputs": [
    {
     "name": "stdout",
     "output_type": "stream",
     "text": [
      "Train Model Cost 0.6679 Sec\n"
     ]
    }
   ],
   "source": [
    "time_start = time.time()\n",
    "\n",
    "# 加载bayes分类器\n",
    "# 统计法向量化\n",
    "vectorizer = CountVectorizer(max_df=0.8, min_df=5)\n",
    "tfidftransformer = TfidfTransformer()\n",
    "# 先转换成词频矩阵，再计算TFIDF值\n",
    "tfidf = tfidftransformer.fit_transform(vectorizer.fit_transform(np.str_(review) for review in reviews_train))\n",
    "# 朴素贝叶斯中的多项式分类器\n",
    "clf = MultinomialNB().fit(tfidf, labels_train)\n",
    "\n",
    "print(f'Train Model Cost {time.time() - time_start:.4f} Sec')"
   ]
  },
  {
   "cell_type": "code",
   "execution_count": 3,
   "id": "57d1c00a",
   "metadata": {},
   "outputs": [],
   "source": [
    "# 生成测试数据的tfidf矩阵\n",
    "tfidf_test = tfidftransformer.transform(vectorizer.transform(np.str_(review) for review in reviews_test))\n",
    "result = clf.predict(tfidf_test)"
   ]
  },
  {
   "cell_type": "code",
   "execution_count": 4,
   "id": "26cd6b29",
   "metadata": {},
   "outputs": [
    {
     "name": "stdout",
     "output_type": "stream",
     "text": [
      "              precision    recall  f1-score   support\n",
      "\n",
      "           0       0.84      0.80      0.82     11910\n",
      "           1       0.81      0.85      0.83     12087\n",
      "\n",
      "    accuracy                           0.83     23997\n",
      "   macro avg       0.83      0.83      0.83     23997\n",
      "weighted avg       0.83      0.83      0.83     23997\n",
      "\n",
      "准确率: 0.8257282160270034\n"
     ]
    }
   ],
   "source": [
    "from sklearn import metrics\n",
    "print(metrics.classification_report(labels_test, result))\n",
    "print(\"准确率:\", metrics.accuracy_score(labels_test, result))"
   ]
  }
 ],
 "metadata": {
  "kernelspec": {
   "display_name": "Python 3",
   "language": "python",
   "name": "python3"
  },
  "language_info": {
   "codemirror_mode": {
    "name": "ipython",
    "version": 3
   },
   "file_extension": ".py",
   "mimetype": "text/x-python",
   "name": "python",
   "nbconvert_exporter": "python",
   "pygments_lexer": "ipython3",
   "version": "3.8.8"
  }
 },
 "nbformat": 4,
 "nbformat_minor": 5
}
