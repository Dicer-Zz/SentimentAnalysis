{
 "cells": [
  {
   "cell_type": "code",
   "execution_count": 1,
   "metadata": {
    "executionInfo": {
     "elapsed": 2990,
     "status": "ok",
     "timestamp": 1620469689138,
     "user": {
      "displayName": "骰子",
      "photoUrl": "https://lh3.googleusercontent.com/a-/AOh14GiBQGkV2xL0OSb8lY1TeQ74XI3JdNRGabyZ4wO5=s64",
      "userId": "06083950532889719237"
     },
     "user_tz": -480
    },
    "id": "Ndvojk55QidN"
   },
   "outputs": [],
   "source": [
    "\"\"\"\n",
    "requirements:\n",
    "    tensorflow: 2.4.1\n",
    "    numpy: 1.19.5\n",
    "    keras: 2.4.3\n",
    "    pandas: 1.1.5\n",
    "\"\"\"\n",
    "import numpy as np\n",
    "import pandas as pd\n",
    "import tensorflow.keras as keras\n",
    "import tensorflow as tf"
   ]
  },
  {
   "cell_type": "code",
   "execution_count": 2,
   "metadata": {
    "colab": {
     "base_uri": "https://localhost:8080/"
    },
    "executionInfo": {
     "elapsed": 5100,
     "status": "ok",
     "timestamp": 1620469691256,
     "user": {
      "displayName": "骰子",
      "photoUrl": "https://lh3.googleusercontent.com/a-/AOh14GiBQGkV2xL0OSb8lY1TeQ74XI3JdNRGabyZ4wO5=s64",
      "userId": "06083950532889719237"
     },
     "user_tz": -480
    },
    "id": "0OKZYMzbaqSQ",
    "outputId": "9607975b-c7c7-40d1-eca6-23d72667aec3"
   },
   "outputs": [
    {
     "name": "stdout",
     "output_type": "stream",
     "text": [
      "Drive already mounted at /content/drive; to attempt to forcibly remount, call drive.mount(\"/content/drive\", force_remount=True).\n"
     ]
    }
   ],
   "source": [
    "# 载入google drive\n",
    "from google.colab import drive\n",
    "drive.mount('/content/drive')"
   ]
  },
  {
   "cell_type": "code",
   "execution_count": 3,
   "metadata": {
    "colab": {
     "base_uri": "https://localhost:8080/"
    },
    "executionInfo": {
     "elapsed": 6629,
     "status": "ok",
     "timestamp": 1620469692792,
     "user": {
      "displayName": "骰子",
      "photoUrl": "https://lh3.googleusercontent.com/a-/AOh14GiBQGkV2xL0OSb8lY1TeQ74XI3JdNRGabyZ4wO5=s64",
      "userId": "06083950532889719237"
     },
     "user_tz": -480
    },
    "id": "Bkbr5-Wqaviz",
    "outputId": "6fc58143-3e97-4d11-9a64-c113ec39eca8"
   },
   "outputs": [
    {
     "data": {
      "text/plain": [
       "(0       angry\n",
       " 1       happy\n",
       " 2     neutral\n",
       " 3     neutral\n",
       " 4    surprise\n",
       " Name: label, dtype: object,\n",
       " 0                   气死 姐姐 快二是 阵亡 吗 尼玛 一个半 小时 过去 也 没 上车\n",
       " 1                妞妞 今天 又 承办 一个 发文 登记 文号 是 嘻 么 么 哒 晚安 哟\n",
       " 2               还 值得注意 另 一个 事实 张鞠存 原有 一个 东溪 草堂 为 其 读书处\n",
       " 3    这 在 前 华约 国家 尤其 是 东德 使用 的 首次 联合演习 期间 被 一些 北约组织 ...\n",
       " 4                                                    上\n",
       " Name: review, dtype: object)"
      ]
     },
     "execution_count": 3,
     "metadata": {
      "tags": []
     },
     "output_type": "execute_result"
    }
   ],
   "source": [
    "df = pd.read_csv('/content/drive/MyDrive/SentimentAnalysis/corpus/5moods/train/usual_trainTrimed.csv')\n",
    "Labels, Reviews = df['label'].astype('str'), df['review'].astype('str')"
   ]
  },
  {
   "cell_type": "code",
   "execution_count": 4,
   "metadata": {
    "colab": {
     "base_uri": "https://localhost:8080/"
    },
    "executionInfo": {
     "elapsed": 7507,
     "status": "ok",
     "timestamp": 1620469693675,
     "user": {
      "displayName": "骰子",
      "photoUrl": "https://lh3.googleusercontent.com/a-/AOh14GiBQGkV2xL0OSb8lY1TeQ74XI3JdNRGabyZ4wO5=s64",
      "userId": "06083950532889719237"
     },
     "user_tz": -480
    },
    "id": "2kW-RSFDfHBX",
    "outputId": "e0eed141-d63f-41c3-ca8e-e1a1bfb2cc6f"
   },
   "outputs": [
    {
     "data": {
      "text/plain": [
       "(9806        happy\n",
       " 2206     surprise\n",
       " 10048     neutral\n",
       " 13965       happy\n",
       " 16766       angry\n",
       " Name: label, dtype: object,\n",
       " 9806                累死 活动 结束 哈哈 洗澡 睡觉 咯 玩命 速递 好好看 奥迪 好帅 晚安\n",
       " 2206          在 安静 的 环境 下 闭眼 感受 一种 灯光 从亮 到 暗到 黑 一种 奇怪 的 感觉\n",
       " 10048    接上 读书 分享 中 班级 热爱 读书 的 同学 分享 最近 读书 的 心得 并 为 班级 ...\n",
       " 13965    写 完 东西 到 阳台 看看 睡莲 缸 里 的 小龟 哈哈 龟 原来 是 睡觉 的 闭 眼睛 好萌\n",
       " 16766                                           人 竖 中指 好 吗\n",
       " Name: review, dtype: object)"
      ]
     },
     "execution_count": 4,
     "metadata": {
      "tags": []
     },
     "output_type": "execute_result"
    }
   ],
   "source": [
    "# 打乱并分割数据集\n",
    "from sklearn.model_selection import train_test_split\n",
    "\n",
    "# random_state表示随机数种子\n",
    "Labels_train, Labels_test, Reviews_train, Reviews_test = train_test_split(\n",
    "    Labels, Reviews, \n",
    "    test_size=0.3, random_state=0\n",
    ")"
   ]
  },
  {
   "cell_type": "code",
   "execution_count": 5,
   "metadata": {
    "colab": {
     "base_uri": "https://localhost:8080/"
    },
    "executionInfo": {
     "elapsed": 8464,
     "status": "ok",
     "timestamp": 1620469694637,
     "user": {
      "displayName": "骰子",
      "photoUrl": "https://lh3.googleusercontent.com/a-/AOh14GiBQGkV2xL0OSb8lY1TeQ74XI3JdNRGabyZ4wO5=s64",
      "userId": "06083950532889719237"
     },
     "user_tz": -480
    },
    "id": "DJ2KMfrigBev",
    "outputId": "b7ab61d7-91c8-49e9-89a2-6004ec82b293"
   },
   "outputs": [
    {
     "name": "stdout",
     "output_type": "stream",
     "text": [
      "累死 活动 结束 哈哈 洗澡 睡觉 咯 玩命 速递 好好看 奥迪 好帅 晚安\n",
      "[1353, 621, 362, 382, 898, 109, 762, 7898, 20687, 3432, 7899, 5008, 182]\n",
      "在 安静 的 环境 下 闭眼 感受 一种 灯光 从亮 到 暗到 黑 一种 奇怪 的 感觉\n",
      "[4, 968, 1, 1201, 81, 2793, 423, 168, 3731, 20688, 21, 20689, 584, 168, 998, 1, 41]\n",
      "接上 读书 分享 中 班级 热爱 读书 的 同学 分享 最近 读书 的 心得 并 为 班级 同学 推荐 有 意义 的 书籍 在 写作 方面 已 小有成就 的 胡仕林 同学 为 同学们 介绍 的 写作 经验 并 为 同学们 推荐 张德芬 的 都市 心灵 三部曲\n",
      "[7900, 1673, 690, 50, 2471, 4517, 1673, 1, 432, 690, 100, 1673, 1, 9839, 133, 49, 2471, 432, 1611, 9, 946, 1, 7901, 4, 3433, 1166, 222, 20690, 1, 20691, 432, 49, 3213, 1543, 1, 3433, 899, 133, 49, 3213, 1611, 13249, 1, 7902, 2237, 20692]\n"
     ]
    },
    {
     "data": {
      "text/plain": [
       "(215,\n",
       " 215,\n",
       " array([    0,     0,     0,     0,     0,     0,     0,     0,     0,\n",
       "            0,     0,     0,     0,     0,     0,     0,     0,     0,\n",
       "            0,     0,     0,     0,     0,     0,     0,     0,     0,\n",
       "            0,     0,     0,     0,     0,     0,     0,     0,     0,\n",
       "            0,     0,     0,     0,     0,     0,     0,     0,     0,\n",
       "            0,     0,     0,     0,     0,     0,     0,     0,     0,\n",
       "            0,     0,     0,     0,     0,     0,     0,     0,     0,\n",
       "            0,     0,     0,     0,     0,     0,     0,     0,     0,\n",
       "            0,     0,     0,     0,     0,     0,     0,     0,     0,\n",
       "            0,     0,     0,     0,     0,     0,     0,     0,     0,\n",
       "            0,     0,     0,     0,     0,     0,     0,     0,     0,\n",
       "            0,     0,     0,     0,     0,     0,     0,     0,     0,\n",
       "            0,     0,     0,     0,     0,     0,     0,     0,     0,\n",
       "            0,     0,     0,     0,     0,     0,     0,     0,     0,\n",
       "            0,     0,     0,     0,     0,     0,     0,     0,     0,\n",
       "            0,     0,     0,     0,     0,     0,     0,     0,     0,\n",
       "            0,     0,     0,     0,     0,     0,     0,     0,     0,\n",
       "            0,     0,     0,     0,     0,     0,     0,     0,     0,\n",
       "            0,     0,     0,     0,     0,     0,     0,     0,     0,\n",
       "            0,     0,     0,     0,     0,     0,     0,     0,     0,\n",
       "            0,     0,     0,     0,     0,     0,     0,     0,     0,\n",
       "            0,     0,     0,     0,     0,     0,     0,     0,     0,\n",
       "            0,     0,     0,     0,  1353,   621,   362,   382,   898,\n",
       "          109,   762,  7898, 20687,  3432,  7899,  5008,   182],\n",
       "       dtype=int32),\n",
       " numpy.ndarray)"
      ]
     },
     "execution_count": 5,
     "metadata": {
      "tags": []
     },
     "output_type": "execute_result"
    }
   ],
   "source": [
    "\"\"\"\n",
    "Tokenize words\n",
    "String to INT\n",
    "\"\"\"\n",
    "\n",
    "from keras.preprocessing.text import Tokenizer\n",
    "from keras.preprocessing.sequence import pad_sequences\n",
    "\n",
    "# 最长评论长度\n",
    "# 此处有其他的处理方法：因为可能存在部分review过长，导致max_len很大\n",
    "max_len = max(map(len, Reviews))\n",
    "\n",
    "# Tokenize\n",
    "tokenizer = Tokenizer()\n",
    "tokenizer.fit_on_texts(Reviews_train)\n",
    "reviews_train = tokenizer.texts_to_sequences(Reviews_train)\n",
    "reviews_test = tokenizer.texts_to_sequences(Reviews_test)\n",
    "\n",
    "# 查看结果\n",
    "for text, vector in zip(Reviews_train[:3], reviews_train[:3]):\n",
    "    print(text)\n",
    "    print(vector)\n",
    "\n",
    "# 固定长度\n",
    "# 向量填充\n",
    "\n",
    "reviews_train = pad_sequences(reviews_train, max_len)\n",
    "reviews_test = pad_sequences(reviews_test, max_len)"
   ]
  },
  {
   "cell_type": "code",
   "execution_count": 6,
   "metadata": {
    "colab": {
     "base_uri": "https://localhost:8080/"
    },
    "executionInfo": {
     "elapsed": 8459,
     "status": "ok",
     "timestamp": 1620469694637,
     "user": {
      "displayName": "骰子",
      "photoUrl": "https://lh3.googleusercontent.com/a-/AOh14GiBQGkV2xL0OSb8lY1TeQ74XI3JdNRGabyZ4wO5=s64",
      "userId": "06083950532889719237"
     },
     "user_tz": -480
    },
    "id": "Nk-gWLB3lUms",
    "outputId": "d5e101cb-81d9-4850-df2f-8c21a5c5ffb3"
   },
   "outputs": [
    {
     "name": "stdout",
     "output_type": "stream",
     "text": [
      "{0: 'sad', 1: 'angry', 2: 'fear', 3: 'neutral', 4: 'surprise', 5: 'happy'}\n"
     ]
    }
   ],
   "source": [
    "# mood to int and int to mood dict\n",
    "mood_to_int = {\n",
    "    'sad':0,\n",
    "    'angry': 1,\n",
    "    'fear': 2,\n",
    "    'neutral': 3,\n",
    "    'surprise': 4,\n",
    "    'happy': 5,\n",
    "}\n",
    "int_to_mood = {k:i for k, i in enumerate(mood_to_int)}"
   ]
  },
  {
   "cell_type": "code",
   "execution_count": 7,
   "metadata": {
    "colab": {
     "base_uri": "https://localhost:8080/"
    },
    "executionInfo": {
     "elapsed": 8456,
     "status": "ok",
     "timestamp": 1620469694638,
     "user": {
      "displayName": "骰子",
      "photoUrl": "https://lh3.googleusercontent.com/a-/AOh14GiBQGkV2xL0OSb8lY1TeQ74XI3JdNRGabyZ4wO5=s64",
      "userId": "06083950532889719237"
     },
     "user_tz": -480
    },
    "id": "8s6V68AFiIDT",
    "outputId": "1be0e863-80c6-45ea-af14-d0450fd0e3bf"
   },
   "outputs": [
    {
     "data": {
      "text/plain": [
       "(array([[0., 0., 0., 0., 0., 1.],\n",
       "        [0., 0., 0., 0., 1., 0.],\n",
       "        [0., 0., 0., 1., 0., 0.],\n",
       "        [0., 0., 0., 0., 0., 1.],\n",
       "        [0., 1., 0., 0., 0., 0.]], dtype=float32),\n",
       " array([[0., 0., 0., 0., 0., 1.],\n",
       "        [0., 0., 0., 0., 1., 0.],\n",
       "        [0., 1., 0., 0., 0., 0.],\n",
       "        [0., 0., 0., 0., 1., 0.],\n",
       "        [1., 0., 0., 0., 0., 0.]], dtype=float32))"
      ]
     },
     "execution_count": 7,
     "metadata": {
      "tags": []
     },
     "output_type": "execute_result"
    }
   ],
   "source": [
    "\"\"\"\n",
    "one-hot编码label\n",
    "\"\"\"\n",
    "from tensorflow.keras import utils\n",
    "\n",
    "labels_train = np.array([mood_to_int[x] for x in Labels_train], dtype=int)\n",
    "labels_train = utils.to_categorical(labels_train) \n",
    "labels_test = np.array([mood_to_int[x] for x in Labels_test], dtype=int)\n",
    "labels_test = utils.to_categorical(labels_test)"
   ]
  },
  {
   "cell_type": "code",
   "execution_count": 15,
   "metadata": {
    "colab": {
     "base_uri": "https://localhost:8080/"
    },
    "executionInfo": {
     "elapsed": 1655,
     "status": "ok",
     "timestamp": 1620472648983,
     "user": {
      "displayName": "骰子",
      "photoUrl": "https://lh3.googleusercontent.com/a-/AOh14GiBQGkV2xL0OSb8lY1TeQ74XI3JdNRGabyZ4wO5=s64",
      "userId": "06083950532889719237"
     },
     "user_tz": -480
    },
    "id": "MxEZqsCQgEFO",
    "outputId": "3f2063af-f119-47de-b975-59adcf151171"
   },
   "outputs": [
    {
     "name": "stdout",
     "output_type": "stream",
     "text": [
      "49083\n",
      "Model: \"sequential_1\"\n",
      "_________________________________________________________________\n",
      "Layer (type)                 Output Shape              Param #   \n",
      "=================================================================\n",
      "embedding_1 (Embedding)      (None, None, 32)          1570656   \n",
      "_________________________________________________________________\n",
      "lstm_1 (LSTM)                (None, 12)                2160      \n",
      "_________________________________________________________________\n",
      "dense_1 (Dense)              (None, 6)                 78        \n",
      "=================================================================\n",
      "Total params: 1,572,894\n",
      "Trainable params: 1,572,894\n",
      "Non-trainable params: 0\n",
      "_________________________________________________________________\n"
     ]
    }
   ],
   "source": [
    "\"\"\"\n",
    "构建模型\n",
    "\"\"\"\n",
    "\n",
    "from keras.models import Sequential\n",
    "from keras.layers import LSTM, Dense, Embedding, Dropout\n",
    "\n",
    "vocabulary_size = len(tokenizer.word_index) + 1\n",
    "print(vocabulary_size)\n",
    "\n",
    "model = Sequential()\n",
    "\n",
    "model.add(Embedding(input_dim=vocabulary_size, output_dim=32))\n",
    "model.add(LSTM(12, return_sequences=False, dropout=0.5))\n",
    "model.add(Dense(6, activation='softmax'))\n",
    "\n",
    "model.compile(loss='categorical_crossentropy', optimizer='rmsprop', metrics=['accuracy'])\n",
    "\n",
    "model.summary()"
   ]
  },
  {
   "cell_type": "code",
   "execution_count": 16,
   "metadata": {
    "colab": {
     "base_uri": "https://localhost:8080/"
    },
    "executionInfo": {
     "elapsed": 574574,
     "status": "ok",
     "timestamp": 1620473221910,
     "user": {
      "displayName": "骰子",
      "photoUrl": "https://lh3.googleusercontent.com/a-/AOh14GiBQGkV2xL0OSb8lY1TeQ74XI3JdNRGabyZ4wO5=s64",
      "userId": "06083950532889719237"
     },
     "user_tz": -480
    },
    "id": "lnmConJJmx__",
    "outputId": "694a59ce-ae05-47ed-e8e2-0376d8633081"
   },
   "outputs": [
    {
     "name": "stdout",
     "output_type": "stream",
     "text": [
      "Epoch 1/10\n",
      "608/608 [==============================] - 57s 91ms/step - loss: 1.6245 - accuracy: 0.3148 - val_loss: 1.3497 - val_accuracy: 0.4567\n",
      "Epoch 2/10\n",
      "608/608 [==============================] - 57s 94ms/step - loss: 1.2554 - accuracy: 0.5166 - val_loss: 1.1457 - val_accuracy: 0.5792\n",
      "Epoch 3/10\n",
      "608/608 [==============================] - 57s 94ms/step - loss: 1.0367 - accuracy: 0.6178 - val_loss: 1.0558 - val_accuracy: 0.6178\n",
      "Epoch 4/10\n",
      "608/608 [==============================] - 57s 94ms/step - loss: 0.9340 - accuracy: 0.6640 - val_loss: 1.0178 - val_accuracy: 0.6317\n",
      "Epoch 5/10\n",
      "608/608 [==============================] - 57s 94ms/step - loss: 0.8324 - accuracy: 0.7094 - val_loss: 0.9842 - val_accuracy: 0.6465\n",
      "Epoch 6/10\n",
      "608/608 [==============================] - 57s 94ms/step - loss: 0.7620 - accuracy: 0.7339 - val_loss: 0.9714 - val_accuracy: 0.6566\n",
      "Epoch 7/10\n",
      "608/608 [==============================] - 57s 94ms/step - loss: 0.7119 - accuracy: 0.7515 - val_loss: 1.0009 - val_accuracy: 0.6483\n",
      "Epoch 8/10\n",
      "608/608 [==============================] - 57s 94ms/step - loss: 0.6625 - accuracy: 0.7756 - val_loss: 0.9671 - val_accuracy: 0.6655\n",
      "Epoch 9/10\n",
      "608/608 [==============================] - 58s 95ms/step - loss: 0.6082 - accuracy: 0.7947 - val_loss: 1.0244 - val_accuracy: 0.6365\n",
      "Epoch 10/10\n",
      "608/608 [==============================] - 58s 95ms/step - loss: 0.5703 - accuracy: 0.8073 - val_loss: 0.9944 - val_accuracy: 0.6679\n"
     ]
    }
   ],
   "source": [
    "# 训练\n",
    "history = model.fit(\n",
    "    reviews_train, labels_train, batch_size=32, epochs=10,\n",
    "    validation_data=(reviews_test, labels_test)\n",
    ")"
   ]
  },
  {
   "cell_type": "code",
   "execution_count": 17,
   "metadata": {
    "colab": {
     "base_uri": "https://localhost:8080/",
     "height": 573
    },
    "executionInfo": {
     "elapsed": 574568,
     "status": "ok",
     "timestamp": 1620473221912,
     "user": {
      "displayName": "骰子",
      "photoUrl": "https://lh3.googleusercontent.com/a-/AOh14GiBQGkV2xL0OSb8lY1TeQ74XI3JdNRGabyZ4wO5=s64",
      "userId": "06083950532889719237"
     },
     "user_tz": -480
    },
    "id": "ZiKsVVMuMh9T",
    "outputId": "966b11b6-ce6d-448c-b27c-c3a2d9c67082"
   },
   "outputs": [
    {
     "data": {
      "image/png": "[encoded data removed]",
      "text/plain": [
       "<Figure size 432x288 with 1 Axes>"
      ]
     },
     "metadata": {
      "needs_background": "light",
      "tags": []
     },
     "output_type": "display_data"
    },
    {
     "data": {
      "image/png": "[encoded data removed]",
      "text/plain": [
       "<Figure size 432x288 with 1 Axes>"
      ]
     },
     "metadata": {
      "needs_background": "light",
      "tags": []
     },
     "output_type": "display_data"
    }
   ],
   "source": [
    "from matplotlib import pyplot as plt\n",
    "\n",
    "# 精度\n",
    "plt.plot(history.history['accuracy'], marker='.', label='acc')\n",
    "plt.plot(history.history['val_accuracy'], marker='.', label='val_acc')\n",
    "plt.title('model accuracy')\n",
    "plt.grid()\n",
    "plt.xlabel('epoch')\n",
    "plt.ylabel('accuracy')\n",
    "plt.legend(loc='best')\n",
    "plt.show()\n",
    "\n",
    "# loss\n",
    "plt.plot(history.history['loss'], marker='.', label='loss')\n",
    "plt.plot(history.history['val_loss'], marker='.', label='val_loss')\n",
    "plt.title('model loss')\n",
    "plt.grid()\n",
    "plt.xlabel('epoch')\n",
    "plt.ylabel('loss')\n",
    "plt.legend(loc='best')\n",
    "plt.show()"
   ]
  },
  {
   "cell_type": "code",
   "execution_count": 18,
   "metadata": {
    "colab": {
     "base_uri": "https://localhost:8080/"
    },
    "executionInfo": {
     "elapsed": 575735,
     "status": "ok",
     "timestamp": 1620473223084,
     "user": {
      "displayName": "骰子",
      "photoUrl": "https://lh3.googleusercontent.com/a-/AOh14GiBQGkV2xL0OSb8lY1TeQ74XI3JdNRGabyZ4wO5=s64",
      "userId": "06083950532889719237"
     },
     "user_tz": -480
    },
    "id": "FWVVvdxxtRom",
    "outputId": "5c501579-b92c-4f02-e3ca-0e0a3aef97f4"
   },
   "outputs": [
    {
     "name": "stdout",
     "output_type": "stream",
     "text": [
      "5 happy\n"
     ]
    }
   ],
   "source": [
    "# 模型测试\n",
    "input_text = [\"小席 是 我 的 女儿\"]\n",
    "input_text = tokenizer.texts_to_sequences(input_text)\n",
    "input_text = pad_sequences(input_text, maxlen=max_len)\n",
    "pre = model.predict(input_text)\n",
    "pre_ans = pre.argmax()\n",
    "print(pre_ans, int_to_mood[pre_ans])"
   ]
  },
  {
   "cell_type": "code",
   "execution_count": 19,
   "metadata": {
    "colab": {
     "base_uri": "https://localhost:8080/"
    },
    "executionInfo": {
     "elapsed": 575729,
     "status": "ok",
     "timestamp": 1620473223085,
     "user": {
      "displayName": "骰子",
      "photoUrl": "https://lh3.googleusercontent.com/a-/AOh14GiBQGkV2xL0OSb8lY1TeQ74XI3JdNRGabyZ4wO5=s64",
      "userId": "06083950532889719237"
     },
     "user_tz": -480
    },
    "id": "BtUkIrfEwUss",
    "outputId": "dea09ec6-9c41-4f64-e43d-35a7f4fb2a73"
   },
   "outputs": [
    {
     "name": "stdout",
     "output_type": "stream",
     "text": [
      "[0.4919284  0.23215115 0.00850639 0.04137892 0.11919321 0.10684195] 0 sad\n",
      "[0.7572935  0.13333556 0.00471    0.01648443 0.03847589 0.04970047] 0 sad\n",
      "[0.20885882 0.13440242 0.01979318 0.12821764 0.37008598 0.13864194] 4 surprise\n",
      "[0.5471682  0.11630087 0.01637925 0.06521725 0.1603468  0.09458771] 0 sad\n",
      "[0.5538301  0.18509229 0.01011955 0.03714809 0.11995485 0.09385516] 0 sad\n"
     ]
    }
   ],
   "source": [
    "# 模型测试\n",
    "input_texts = ['开 心', '伤 心', '开', '伤', '心']\n",
    "input_texts = tokenizer.texts_to_sequences(input_texts)\n",
    "input_texts = pad_sequences(input_texts, maxlen=max_len)\n",
    "preds = model.predict(input_texts)\n",
    "for pred in preds:\n",
    "    pred_ans = pred.argmax()\n",
    "    print(pred, pred_ans, int_to_mood[pred_ans])"
   ]
  },
  {
   "cell_type": "code",
   "execution_count": null,
   "metadata": {
    "id": "neURj7s4rFBg"
   },
   "outputs": [],
   "source": [
    "\"\"\"\n",
    "对模型进行测试\n",
    "\"\"\"\n",
    "df = pd.read_csv('/content/drive/MyDrive/SentimentAnalysis/corpus/5moods/train/usual_trainTrimed.csv')\n",
    "Labels_val, Reviews_val = df['label'].astype('str'), df['review'].astype('str')\n",
    "\n",
    "reviews_val = tokenizer.texts_to_sequences(Reviews_val)\n",
    "reviews_val = pad_sequences(reviews_val, max_len)\n",
    "labels_val = [mood_to_int[x] for x in Labels_val]"
   ]
  },
  {
   "cell_type": "code",
   "execution_count": 34,
   "metadata": {
    "executionInfo": {
     "elapsed": 13057,
     "status": "ok",
     "timestamp": 1620474221966,
     "user": {
      "displayName": "骰子",
      "photoUrl": "https://lh3.googleusercontent.com/a-/AOh14GiBQGkV2xL0OSb8lY1TeQ74XI3JdNRGabyZ4wO5=s64",
      "userId": "06083950532889719237"
     },
     "user_tz": -480
    },
    "id": "nvpUtP_2vuJR"
   },
   "outputs": [],
   "source": [
    "preds = model.predict(reviews_val)\n",
    "preds = preds.argmax(axis=1)"
   ]
  },
  {
   "cell_type": "code",
   "execution_count": 35,
   "metadata": {
    "colab": {
     "base_uri": "https://localhost:8080/"
    },
    "executionInfo": {
     "elapsed": 2081,
     "status": "ok",
     "timestamp": 1620474238570,
     "user": {
      "displayName": "骰子",
      "photoUrl": "https://lh3.googleusercontent.com/a-/AOh14GiBQGkV2xL0OSb8lY1TeQ74XI3JdNRGabyZ4wO5=s64",
      "userId": "06083950532889719237"
     },
     "user_tz": -480
    },
    "id": "rV1W--Rbxdx4",
    "outputId": "59d7275c-0cf5-411f-a240-5fe4a98c6c42"
   },
   "outputs": [
    {
     "name": "stdout",
     "output_type": "stream",
     "text": [
      "              precision    recall  f1-score   support\n",
      "\n",
      "           0       0.70      0.72      0.71      4990\n",
      "           1       0.84      0.87      0.85      8344\n",
      "           2       0.73      0.72      0.72      1220\n",
      "           3       0.87      0.86      0.86      5749\n",
      "           4       0.63      0.62      0.63      2086\n",
      "           5       0.83      0.77      0.80      5379\n",
      "\n",
      "    accuracy                           0.80     27768\n",
      "   macro avg       0.76      0.76      0.76     27768\n",
      "weighted avg       0.80      0.80      0.80     27768\n",
      "\n",
      "准确率: 0.7957360991068856\n"
     ]
    }
   ],
   "source": [
    "from sklearn import metrics\n",
    "print(metrics.classification_report(labels_val, preds))\n",
    "print(\"准确率:\", metrics.accuracy_score(labels_val, preds))"
   ]
  },
  {
   "cell_type": "code",
   "execution_count": null,
   "metadata": {
    "id": "3lU57xI_xn1f"
   },
   "outputs": [],
   "source": []
  }
 ],
 "metadata": {
  "colab": {
   "authorship_tag": "ABX9TyPiudgmAQ2CjFF9s28fObVO",
   "collapsed_sections": [],
   "mount_file_id": "15q-Z7QCy_1Oifvn_pLasnwYBqo-WYJfY",
   "name": "LSTM5Class.ipynb",
   "provenance": []
  },
  "kernelspec": {
   "display_name": "Python 3",
   "language": "python",
   "name": "python3"
  },
  "language_info": {
   "codemirror_mode": {
    "name": "ipython",
    "version": 3
   },
   "file_extension": ".py",
   "mimetype": "text/x-python",
   "name": "python",
   "nbconvert_exporter": "python",
   "pygments_lexer": "ipython3",
   "version": "3.8.8"
  }
 },
 "nbformat": 4,
 "nbformat_minor": 4
}
